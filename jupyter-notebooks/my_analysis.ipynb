{
 "cells": [
  {
   "cell_type": "code",
   "execution_count": 1,
   "id": "7295ae85",
   "metadata": {},
   "outputs": [],
   "source": [
    "Name=\"Lareina Yang\""
   ]
  },
  {
   "cell_type": "code",
   "execution_count": 2,
   "id": "895b5ddd",
   "metadata": {},
   "outputs": [
    {
     "data": {
      "text/plain": [
       "'Lareina Yang'"
      ]
     },
     "execution_count": 2,
     "metadata": {},
     "output_type": "execute_result"
    }
   ],
   "source": [
    "Name"
   ]
  },
  {
   "cell_type": "code",
   "execution_count": 4,
   "id": "9f142ec9",
   "metadata": {},
   "outputs": [],
   "source": [
    "Class = 2025"
   ]
  },
  {
   "cell_type": "code",
   "execution_count": 5,
   "id": "f659bf6a",
   "metadata": {},
   "outputs": [
    {
     "data": {
      "text/plain": [
       "2025"
      ]
     },
     "execution_count": 5,
     "metadata": {},
     "output_type": "execute_result"
    }
   ],
   "source": [
    "Class"
   ]
  },
  {
   "cell_type": "code",
   "execution_count": null,
   "id": "3fb7e4c9",
   "metadata": {},
   "outputs": [],
   "source": []
  }
 ],
 "metadata": {
  "kernelspec": {
   "display_name": "Python 3 (ipykernel)",
   "language": "python",
   "name": "python3"
  },
  "language_info": {
   "codemirror_mode": {
    "name": "ipython",
    "version": 3
   },
   "file_extension": ".py",
   "mimetype": "text/x-python",
   "name": "python",
   "nbconvert_exporter": "python",
   "pygments_lexer": "ipython3",
   "version": "3.9.7"
  }
 },
 "nbformat": 4,
 "nbformat_minor": 5
}
